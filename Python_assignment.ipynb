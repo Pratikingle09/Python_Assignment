{
 "cells": [
  {
   "cell_type": "code",
   "execution_count": 27,
   "id": "537fe64b",
   "metadata": {},
   "outputs": [],
   "source": [
    "from bs4 import BeautifulSoup\n",
    "import requests\n",
    "import pandas as pd\n",
    
    "from selenium import webdriver\n",
    "from selenium.webdriver.chrome.service import Service\n",
    "import time"
   ]
  },
  {
   "cell_type": "code",
   "execution_count": 28,
   "id": "5fadce40",
   "metadata": {},
   "outputs": [],
   "source": [
    "Product_URL=[]\n",
    "Product_Name=[]\n",
    "Product_Price=[]\n",
    "rating=[]\n",
    "Reviews=[]"
   ]
  },
  {
   "cell_type": "code",
   "execution_count": 62,
   "id": "452d16d2",
   "metadata": {},
   "outputs": [],
   "source": [
    "Description=[]\n",
    "ASIN=[]\n",
    "Product_Description=[]\n",
    "Manufacturer=[]"
   ]
  },
  {
   "cell_type": "code",
   "execution_count": 30,
   "id": "5a329480",
   "metadata": {},
   "outputs": [],
   "source": [
    "URL=\"https://www.amazon.in/s?k=bags&crid=2M096C61O4MLT&qid=1688716114&sprefix=ba%2Caps%2C283&ref=sr_pg_1\"\n",
    "driver= webdriver.Chrome()\n",
    "driver.get(URL)\n",
    "time.sleep(3)\n",
    "previous_height = driver.execute_script('return document.body.scrollHeight')\n",
    "\n",
    "while True:\n",
    "    driver.execute_script('window.scrollTo(0, document.body.scrollHeight);')\n",
    "    time.sleep(3)\n",
    "    new_height = driver.execute_script('return document.body.scrollHeight') \n",
    "    if new_height == previous_height:\n",
    "        break\n",
    "   
    "    soup = BeautifulSoup(driver.page_source, 'html.parser')\n",
    "    a=[\"a-size-medium a-color-base a-text-normal\",\"a-size-base-plus a-color-base a-text-normal\"]\n",
    "    n1=soup.find_all(\"span\",class_=a)\n",
    "    for i in n1:\n",
    "        n1=i.text\n",
    "        Product_Name.append(n1)\n",
    "            \n",
    "            #print(name)\n",
    "            #len(Product_Name)\n",
    "    n2=soup.find_all(\"span\",class_=\"a-price-whole\")\n",
    "    for i in n2:\n",
    "        n2=i.text\n",
    "        Product_Price.append(n2)\n",
    "            #print(name)\n",
    "            #len(Product_Price)\n",
    "    n3=soup.find_all(\"span\",class_=\"a-icon-alt\")\n",
    "    for i in n3:\n",
    "        n3=i.text\n",
    "        rating.append(n3)\n",
    "            #print(name)\n",
    "            #len(rating)\n",
    "    n4=soup.find_all(\"span\",class_=\"a-size-base s-underline-text\")\n",
    "    for i in n4:\n",
    "        n4=i.text\n",
    "        Reviews.append(n4)\n",
    "            #print(name)\n",
    "            #len(Reviews)\n",
    "    links = soup.find_all(\"a\", attrs={'class':'a-link-normal s-underline-text s-underline-link-text s-link-style a-text-normal'})\n",
    "    for link in links:\n",
    "        Product_URL.append(link.get('href'))\n",
    "            #len(Product_URL)\n",
    "\n",
    "for i in range(2,21):\n",
    "    URL=f'https://www.amazon.in/s?k=bags&page={i}&crid=2M096C61O4MLT&qid=1688714478&sprefix=ba%2Caps%2C283&ref=sr_pg_{i}'\n",
    "    driver= webdriver.Chrome()\n",
    "    driver.get(URL)\n",
    "    time.sleep(3)\n",
    "    previous_height = driver.execute_script('return document.body.scrollHeight')\n",
    "    while True:\n",
    "        driver.execute_script('window.scrollTo(0, document.body.scrollHeight);')\n",
    "        time.sleep(3)\n",
    "        new_height = driver.execute_script('return document.body.scrollHeight') \n",
    "        if new_height == previous_height:\n",
    "            break\n",
    "      
    "        soup = BeautifulSoup(driver.page_source, 'html.parser')\n",
    "        a=[\"a-size-medium a-color-base a-text-normal\",\"a-size-base-plus a-color-base a-text-normal\"]\n",
    "        n1=soup.find_all(\"span\",class_=a)\n",
    "        for i in n1:\n",
    "            n1=i.text\n",
    "            Product_Name.append(n1)\n",
    "            \n",
    "            #print(name)\n",
    "            #len(Product_Name)\n",
    "        n2=soup.find_all(\"span\",class_=\"a-price-whole\")\n",
    "        for i in n2:\n",
    "            n2=i.text\n",
    "            Product_Price.append(n2)\n",
    "            #print(name)\n",
    "            #len(Product_Price)\n",
    "        n3=soup.find_all(\"span\",class_=\"a-icon-alt\")\n",
    "        for i in n3:\n",
    "            n3=i.text\n",
    "            rating.append(n3)\n",
    "            #print(name)\n",
    "            #len(rating)\n",
    "        n4=soup.find_all(\"span\",class_=\"a-size-base s-underline-text\")\n",
    "        for i in n4:\n",
    "            n4=i.text\n",
    "            Reviews.append(n4)\n",
    "            #print(name)\n",
    "            #len(Reviews)\n",
    "        links = soup.find_all(\"a\", attrs={'class':'a-link-normal s-underline-text s-underline-link-text s-link-style a-text-normal'})\n",
    "        for link in links:\n",
    "            Product_URL.append(link.get('href'))\n",
    "            #len(Product_URL)            "
   ]
  },
  {
   "cell_type": "code",
   "execution_count": 57,
   "id": "7e9c4596",
   "metadata": {},
   "outputs": [],
   "source": [
    "d = {\"Product_Name\":Product_Name, \"Product_Price\":Product_Price, \"rating\":rating, \"Reviews\":Reviews,\"Product_URL\":Product_URL}"
   ]
  },
  {
   "cell_type": "code",
   "execution_count": 63,
   "id": "89b07e81",
   "metadata": {},
   "outputs": [
    {
     "ename": "WebDriverException",
     "evalue": "Message: unknown error: net::ERR_NAME_NOT_RESOLVED\n  (Session info: chrome=114.0.5735.199)\nStacktrace:\nBacktrace:\n\tGetHandleVerifier [0x0079A813+48355]\n\t(No symbol) [0x0072C4B1]\n\t(No symbol) [0x00635358]\n\t(No symbol) [0x00631B33]\n\t(No symbol) [0x00628CA5]\n\t(No symbol) [0x00629D0A]\n\t(No symbol) [0x00629003]\n\t(No symbol) [0x00628355]\n\t(No symbol) [0x006282EC]\n\t(No symbol) [0x00626F26]\n\t(No symbol) [0x00627688]\n\t(No symbol) [0x00636B52]\n\t(No symbol) [0x0068CF01]\n\t(No symbol) [0x0067A73C]\n\t(No symbol) [0x0068C922]\n\t(No symbol) [0x0067A536]\n\t(No symbol) [0x006582DC]\n\t(No symbol) [0x006593DD]\n\tGetHandleVerifier [0x009FAABD+2539405]\n\tGetHandleVerifier [0x00A3A78F+2800735]\n\tGetHandleVerifier [0x00A3456C+2775612]\n\tGetHandleVerifier [0x008251E0+616112]\n\t(No symbol) [0x00735F8C]\n\t(No symbol) [0x00732328]\n\t(No symbol) [0x0073240B]\n\t(No symbol) [0x00724FF7]\n\tBaseThreadInitThunk [0x75CC7D59+25]\n\tRtlInitializeExceptionChain [0x776EB74B+107]\n\tRtlClearBits [0x776EB6CF+191]\n",
     "output_type": "error",
     "traceback": [
      "\u001b[1;31m---------------------------------------------------------------------------\u001b[0m",
      "\u001b[1;31mWebDriverException\u001b[0m                        Traceback (most recent call last)",
      "Cell \u001b[1;32mIn[63], line 21\u001b[0m\n\u001b[0;32m     17\u001b[0m \u001b[38;5;28;01mfor\u001b[39;00m i \u001b[38;5;129;01min\u001b[39;00m a:\n\u001b[0;32m     19\u001b[0m     driver\u001b[38;5;241m=\u001b[39m webdriver\u001b[38;5;241m.\u001b[39mChrome()\n\u001b[1;32m---> 21\u001b[0m     \u001b[43mdriver\u001b[49m\u001b[38;5;241;43m.\u001b[39;49m\u001b[43mget\u001b[49m\u001b[43m(\u001b[49m\u001b[43mi\u001b[49m\u001b[43m)\u001b[49m\n\u001b[0;32m     23\u001b[0m     time\u001b[38;5;241m.\u001b[39msleep(\u001b[38;5;241m3\u001b[39m)\n\u001b[0;32m     25\u001b[0m     previous_h \u001b[38;5;241m=\u001b[39m driver\u001b[38;5;241m.\u001b[39mexecute_script(\u001b[38;5;124m'\u001b[39m\u001b[38;5;124mreturn document.body.scrollHeight\u001b[39m\u001b[38;5;124m'\u001b[39m)\n",
      "File \u001b[1;32mc:\\users\\prati\\appdata\\local\\programs\\python\\python39\\lib\\site-packages\\selenium\\webdriver\\remote\\webdriver.py:355\u001b[0m, in \u001b[0;36mWebDriver.get\u001b[1;34m(self, url)\u001b[0m\n\u001b[0;32m    353\u001b[0m \u001b[38;5;28;01mdef\u001b[39;00m \u001b[38;5;21mget\u001b[39m(\u001b[38;5;28mself\u001b[39m, url: \u001b[38;5;28mstr\u001b[39m) \u001b[38;5;241m-\u001b[39m\u001b[38;5;241m>\u001b[39m \u001b[38;5;28;01mNone\u001b[39;00m:\n\u001b[0;32m    354\u001b[0m \u001b[38;5;250m    \u001b[39m\u001b[38;5;124;03m\"\"\"Loads a web page in the current browser session.\"\"\"\u001b[39;00m\n\u001b[1;32m--> 355\u001b[0m     \u001b[38;5;28;43mself\u001b[39;49m\u001b[38;5;241;43m.\u001b[39;49m\u001b[43mexecute\u001b[49m\u001b[43m(\u001b[49m\u001b[43mCommand\u001b[49m\u001b[38;5;241;43m.\u001b[39;49m\u001b[43mGET\u001b[49m\u001b[43m,\u001b[49m\u001b[43m \u001b[49m\u001b[43m{\u001b[49m\u001b[38;5;124;43m\"\u001b[39;49m\u001b[38;5;124;43murl\u001b[39;49m\u001b[38;5;124;43m\"\u001b[39;49m\u001b[43m:\u001b[49m\u001b[43m \u001b[49m\u001b[43murl\u001b[49m\u001b[43m}\u001b[49m\u001b[43m)\u001b[49m\n",
      "File \u001b[1;32mc:\\users\\prati\\appdata\\local\\programs\\python\\python39\\lib\\site-packages\\selenium\\webdriver\\remote\\webdriver.py:346\u001b[0m, in \u001b[0;36mWebDriver.execute\u001b[1;34m(self, driver_command, params)\u001b[0m\n\u001b[0;32m    344\u001b[0m response \u001b[38;5;241m=\u001b[39m \u001b[38;5;28mself\u001b[39m\u001b[38;5;241m.\u001b[39mcommand_executor\u001b[38;5;241m.\u001b[39mexecute(driver_command, params)\n\u001b[0;32m    345\u001b[0m \u001b[38;5;28;01mif\u001b[39;00m response:\n\u001b[1;32m--> 346\u001b[0m     \u001b[38;5;28;43mself\u001b[39;49m\u001b[38;5;241;43m.\u001b[39;49m\u001b[43merror_handler\u001b[49m\u001b[38;5;241;43m.\u001b[39;49m\u001b[43mcheck_response\u001b[49m\u001b[43m(\u001b[49m\u001b[43mresponse\u001b[49m\u001b[43m)\u001b[49m\n\u001b[0;32m    347\u001b[0m     response[\u001b[38;5;124m\"\u001b[39m\u001b[38;5;124mvalue\u001b[39m\u001b[38;5;124m\"\u001b[39m] \u001b[38;5;241m=\u001b[39m \u001b[38;5;28mself\u001b[39m\u001b[38;5;241m.\u001b[39m_unwrap_value(response\u001b[38;5;241m.\u001b[39mget(\u001b[38;5;124m\"\u001b[39m\u001b[38;5;124mvalue\u001b[39m\u001b[38;5;124m\"\u001b[39m, \u001b[38;5;28;01mNone\u001b[39;00m))\n\u001b[0;32m    348\u001b[0m     \u001b[38;5;28;01mreturn\u001b[39;00m response\n",
      "File \u001b[1;32mc:\\users\\prati\\appdata\\local\\programs\\python\\python39\\lib\\site-packages\\selenium\\webdriver\\remote\\errorhandler.py:245\u001b[0m, in \u001b[0;36mErrorHandler.check_response\u001b[1;34m(self, response)\u001b[0m\n\u001b[0;32m    243\u001b[0m         alert_text \u001b[38;5;241m=\u001b[39m value[\u001b[38;5;124m\"\u001b[39m\u001b[38;5;124malert\u001b[39m\u001b[38;5;124m\"\u001b[39m]\u001b[38;5;241m.\u001b[39mget(\u001b[38;5;124m\"\u001b[39m\u001b[38;5;124mtext\u001b[39m\u001b[38;5;124m\"\u001b[39m)\n\u001b[0;32m    244\u001b[0m     \u001b[38;5;28;01mraise\u001b[39;00m exception_class(message, screen, stacktrace, alert_text)  \u001b[38;5;66;03m# type: ignore[call-arg]  # mypy is not smart enough here\u001b[39;00m\n\u001b[1;32m--> 245\u001b[0m \u001b[38;5;28;01mraise\u001b[39;00m exception_class(message, screen, stacktrace)\n",
      "\u001b[1;31mWebDriverException\u001b[0m: Message: unknown error: net::ERR_NAME_NOT_RESOLVED\n  (Session info: chrome=114.0.5735.199)\nStacktrace:\nBacktrace:\n\tGetHandleVerifier [0x0079A813+48355]\n\t(No symbol) [0x0072C4B1]\n\t(No symbol) [0x00635358]\n\t(No symbol) [0x00631B33]\n\t(No symbol) [0x00628CA5]\n\t(No symbol) [0x00629D0A]\n\t(No symbol) [0x00629003]\n\t(No symbol) [0x00628355]\n\t(No symbol) [0x006282EC]\n\t(No symbol) [0x00626F26]\n\t(No symbol) [0x00627688]\n\t(No symbol) [0x00636B52]\n\t(No symbol) [0x0068CF01]\n\t(No symbol) [0x0067A73C]\n\t(No symbol) [0x0068C922]\n\t(No symbol) [0x0067A536]\n\t(No symbol) [0x006582DC]\n\t(No symbol) [0x006593DD]\n\tGetHandleVerifier [0x009FAABD+2539405]\n\tGetHandleVerifier [0x00A3A78F+2800735]\n\tGetHandleVerifier [0x00A3456C+2775612]\n\tGetHandleVerifier [0x008251E0+616112]\n\t(No symbol) [0x00735F8C]\n\t(No symbol) [0x00732328]\n\t(No symbol) [0x0073240B]\n\t(No symbol) [0x00724FF7]\n\tBaseThreadInitThunk [0x75CC7D59+25]\n\tRtlInitializeExceptionChain [0x776EB74B+107]\n\tRtlClearBits [0x776EB6CF+191]\n"
     ]
    }
   ],
   "source": [
    "import webbrowser \n",
    "\n",
    "from selenium import webdriver\n",
    "\n",
    "from selenium.webdriver.chrome.service import Service\n",
    "\n",
    "import time\n",
    "\n",
    "Description=[]\n",
    "\n",
    "ASIN=[]\n",
    "\n",
    "Product_Description=[]\n",
    "\n",
    "Manufacturer=[]\n",
    "a=[\"https://www.amazon.in/\" + Product_URL for Product_URL in Product_URL]\n",
    "for i in a:\n",
    "\n",
    "    driver= webdriver.Chrome()\n",
    "\n",
    "    driver.get(i)\n",
    "\n",
    "    time.sleep(3)\n",
    "\n",
    "    previous_h = driver.execute_script('return document.body.scrollHeight')\n",
    "\n",
    " \n",
    "\n",
    "    while True:\n",
    "\n",
    "        driver.execute_script('window.scrollTo(0, document.body.scrollHeight);')\n",
    "\n",
    "        time.sleep(3)\n",
    "\n",
    " \n",
    "\n",
    "        new_h = driver.execute_script('return document.body.scrollHeight')\n",
    "\n",
    "        if new_h == previous_h:\n",
    "\n",
    "            break\n",
    "\n",
    "        
    "\n",
    "    soup = BeautifulSoup(driver.page_source, \"html.parser\")\n",
    "\n",
    "    #print(soup)\n",
    "\n",
    "    n5=soup.find_all(\"div\",id='feature-bullets')\n",
    "\n",
    "    for i in n5:\n",
    "\n",
    "        n5=i.text\n",
    "\n",
    "        Description.append(n5)\n",
    "\n",
    "\n",
    "    asin_li = soup.select_one('li:has(span.a-text-bold:contains(\"ASIN\"))')\n",
    "\n",
    "    if asin_li:\n",
    "    # Get the ASIN number by accessing the span element within the li\n",
    "        asin_number = asin_li.select_one('span:not(.a-text-bold)').text.strip()\n",
    "        asin_number = asin_number.replace('\\n', '').replace('\\u200f', '').replace('\\u200e', '')\n",
    "        ASIN.append(asin_number.strip())\n",
    "\n",
    "\n",
    "    d1=soup.find_all('div', id='productDescription')\n",
    "\n",
    "    for i in d1:\n",
    "\n",
    "        d2=i.text\n",
    "\n",
    "        Product_Description.append(d2)\n",
    "\n",
    "    manufacturer_li = soup.select_one('li:has(span.a-text-bold:contains(\"Manufacturer\"))')\n",
    "\n",
    "    if manufacturer_li:\n",
    "\n",
    "        manufacturer = manufacturer_li.select_one('span:not(.a-text-bold)').text.strip()\n",
    "        manufacturer = manufacturer.replace('\\n', '').replace('\\u200f', '').replace('\\u200e', '')\n",
    "   \n",
    "        Manufacturer.append(manufacturer.strip())\n",
    "    #print(manufacturer.strip())"
   ]
  },
  {
   "cell_type": "code",
   "execution_count": 64,
   "id": "20640605",
   "metadata": {},
   "outputs": [],
   "source": [
    "d2={\"Description\":Description,\"ASIN\":ASIN,\"Product Description\":Product_Description,\"Manufacturer\":Manufacturer}"
   ]
  },
  {
   "cell_type": "code",
   "execution_count": 59,
   "id": "0405e43b",
   "metadata": {},
   "outputs": [],
   "source": [
    "df = pd.DataFrame.from_dict(d, orient='index')"
   ]
  },
  {
   "cell_type": "code",
   "execution_count": 65,
   "id": "2bc84d29",
   "metadata": {},
   "outputs": [],
   "source": [
    "df_= pd.DataFrame.from_dict(d2, orient='index')"
   ]
  },
  {
   "cell_type": "code",
   "execution_count": 60,
   "id": "df812385",
   "metadata": {},
   "outputs": [],
   "source": [
    "df1=df.T"
   ]
  },
  {
   "cell_type": "code",
   "execution_count": 66,
   "id": "0db7a1cf",
   "metadata": {},
   "outputs": [],
   "source": [
    "df2=df_.T"
   ]
  },
  {
   "cell_type": "code",
   "execution_count": 61,
   "id": "3ecc0f09",
   "metadata": {},
   "outputs": [],
   "source": [
    "df1.to_csv(\"Python_assignment_part_-1.csv\")"
   ]
  },
  {
   "cell_type": "code",
   "execution_count": 67,
   "id": "36af429b",
   "metadata": {},
   "outputs": [],
   "source": [
    "df2.to_csv(\"Python_assignment_part_-2.csv\")"
   ]
  },
  {
   "cell_type": "code",
   "execution_count": null,
   "id": "f044cc34",
   "metadata": {},
   "outputs": [],
   "source": []
  }
 ],
 "metadata": {
  "kernelspec": {
   "display_name": "Python 3 (ipykernel)",
   "language": "python",
   "name": "python3"
  },
  "language_info": {
   "codemirror_mode": {
    "name": "ipython",
    "version": 3
   },
   "file_extension": ".py",
   "mimetype": "text/x-python",
   "name": "python",
   "nbconvert_exporter": "python",
   "pygments_lexer": "ipython3",
   "version": "3.9.2"
  }
 },
 "nbformat": 4,
 "nbformat_minor": 5
}
